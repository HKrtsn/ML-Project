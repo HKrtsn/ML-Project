{
 "cells": [
  {
   "cell_type": "code",
   "execution_count": null,
   "id": "da25a206",
   "metadata": {},
   "outputs": [],
   "source": [
    "import matplotlib.pyplot as plt\n",
    "import pandas as pd\n",
    "\n",
    "df=pd.read_csv('Project_description_and_data/claims_train.csv')\n",
    "\n",
    "x= df['ClaimNb'].values\n",
    "y = df['Exposure'].values\n",
    "\n",
    "plt.scatter(x, y)\n",
    "plt.tight_layout()"
   ]
  }
 ],
 "metadata": {
  "language_info": {
   "name": "python"
  }
 },
 "nbformat": 4,
 "nbformat_minor": 5
}
